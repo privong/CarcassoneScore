{
 "cells": [
  {
   "cell_type": "markdown",
   "metadata": {},
   "source": [
    "# Single Player Multi-game Analysis\n",
    "\n",
    "Look at a player's scoring over a range of games."
   ]
  },
  {
   "cell_type": "markdown",
   "metadata": {},
   "source": [
    "## Preliminaries"
   ]
  },
  {
   "cell_type": "code",
   "execution_count": 1,
   "metadata": {
    "collapsed": true
   },
   "outputs": [],
   "source": [
    "%matplotlib inline"
   ]
  },
  {
   "cell_type": "code",
   "execution_count": 2,
   "metadata": {
    "collapsed": true
   },
   "outputs": [],
   "source": [
    "import sqlite3\n",
    "import matplotlib.pyplot as plt\n",
    "import numpy as np"
   ]
  },
  {
   "cell_type": "code",
   "execution_count": 3,
   "metadata": {
    "collapsed": true
   },
   "outputs": [],
   "source": [
    "DBFILE = 'CarcassonneScore-sample.db'"
   ]
  },
  {
   "cell_type": "code",
   "execution_count": 4,
   "metadata": {
    "collapsed": true
   },
   "outputs": [],
   "source": [
    "timefmt = \"%Y-%m-%dT%H:%M:%S\""
   ]
  },
  {
   "cell_type": "code",
   "execution_count": 5,
   "metadata": {
    "collapsed": true
   },
   "outputs": [],
   "source": [
    "conn = sqlite3.connect(DBFILE)\n",
    "cur = conn.cursor()"
   ]
  },
  {
   "cell_type": "code",
   "execution_count": 6,
   "metadata": {
    "collapsed": true
   },
   "outputs": [],
   "source": [
    "playerID = 1"
   ]
  },
  {
   "cell_type": "code",
   "execution_count": 7,
   "metadata": {},
   "outputs": [],
   "source": [
    "# set up a dtype for storing data\n",
    "pinfodtype = [('gameID', float),\n",
    "              ('score', float)]"
   ]
  },
  {
   "cell_type": "markdown",
   "metadata": {},
   "source": [
    "## Get General Information"
   ]
  },
  {
   "cell_type": "code",
   "execution_count": 8,
   "metadata": {},
   "outputs": [],
   "source": [
    "pname = cur.execute('SELECT name FROM players WHERE playerID={0:1.0f}'.format(playerID)).fetchall()[0][0]"
   ]
  },
  {
   "cell_type": "code",
   "execution_count": 9,
   "metadata": {},
   "outputs": [],
   "source": [
    "scoretypes = [x[0] for x in cur.execute('SELECT DISTINCT scoretype FROM scores WHERE playerID={0:1.0f}'.format(playerID)).fetchall()]"
   ]
  },
  {
   "cell_type": "code",
   "execution_count": 10,
   "metadata": {},
   "outputs": [],
   "source": [
    "for stype in scoretypes:\n",
    "    pinfodtype.append(('N' + stype, float))\n",
    "    pinfodtype.append(('Score' + stype, float))"
   ]
  },
  {
   "cell_type": "code",
   "execution_count": 11,
   "metadata": {},
   "outputs": [],
   "source": [
    "pinfo = np.zeros(1, dtype=pinfodtype)"
   ]
  },
  {
   "cell_type": "markdown",
   "metadata": {},
   "source": [
    "### Get a list of relevant games"
   ]
  },
  {
   "cell_type": "code",
   "execution_count": 12,
   "metadata": {},
   "outputs": [],
   "source": [
    "gameIDs = [x[0] for x in cur.execute('SELECT DISTINCT gameID FROM turns WHERE playerID={0:1.0f} ORDER By gameID'.format(playerID)).fetchall()]\n",
    "for gameID in gameIDs:\n",
    "    curgame = np.zeros(1, dtype=pinfodtype)\n",
    "    curgame['gameID'] = gameID\n",
    "    scores = cur.execute('SELECT points,scoretype FROM scores WHERE gameID={0:1.0f} AND playerID={1:1.0f}'.format(gameID, playerID)).fetchall()\n",
    "    scores = np.array(scores,\n",
    "                      dtype=[('points', float), \n",
    "                             ('type', 'S20')])\n",
    "    for stype in scoretypes:\n",
    "        tscores = scores[scores['type']==stype.encode()]\n",
    "        curgame['N' + stype] = len(tscores)\n",
    "        curgame['Score' + stype] = np.nansum(tscores['points'])\n",
    "    pinfo = np.vstack((pinfo, curgame))"
   ]
  },
  {
   "cell_type": "code",
   "execution_count": 13,
   "metadata": {},
   "outputs": [],
   "source": [
    "# remove bogus first entry\n",
    "pinfo = pinfo[1:]"
   ]
  },
  {
   "cell_type": "code",
   "execution_count": 14,
   "metadata": {},
   "outputs": [
    {
     "data": {
      "text/plain": [
       "Text(0.5, 1.0, 'Scoring Habits for Jane Doe')"
      ]
     },
     "execution_count": 14,
     "metadata": {},
     "output_type": "execute_result"
    },
    {
     "data": {
      "image/png": "[encoded data removed]",
      "text/plain": [
       "<Figure size 432x288 with 2 Axes>"
      ]
     },
     "metadata": {
      "needs_background": "light"
     },
     "output_type": "display_data"
    }
   ],
   "source": [
    "fig, ax = plt.subplots(2, 1,\n",
    "                       sharex=True, sharey=False)\n",
    "for stype in scoretypes:\n",
    "    ax[0].plot(pinfo['gameID'],\n",
    "               pinfo['N' + stype],\n",
    "               marker='o',\n",
    "               label=stype)\n",
    "    ax[1].plot(pinfo['gameID'],\n",
    "               pinfo['Score' + stype],\n",
    "               marker='o',\n",
    "               label=stype)\n",
    "\n",
    "fig.subplots_adjust(hspace=0)\n",
    "ax[0].set_ylabel('N Scores')\n",
    "ax[1].set_ylabel('Points per Type')\n",
    "ax[1].set_xlabel('Game Number')\n",
    "ax[0].legend(loc='best')\n",
    "ax[0].minorticks_on()\n",
    "ax[1].minorticks_on()\n",
    "ylim = ax[0].get_ylim()\n",
    "ax[0].set_ylim([0, ylim[1]])\n",
    "ylim = ax[1].get_ylim()\n",
    "ax[1].set_ylim([0, ylim[1]])\n",
    "xlim = ax[0].get_xlim()\n",
    "ax[0].set_xlim(-1, xlim[1]*1.5)\n",
    "ax[0].set_title('Scoring Habits for ' + pname)"
   ]
  },
  {
   "cell_type": "markdown",
   "metadata": {},
   "source": [
    "## Close things up"
   ]
  },
  {
   "cell_type": "code",
   "execution_count": 15,
   "metadata": {},
   "outputs": [],
   "source": [
    "conn.close()"
   ]
  },
  {
   "cell_type": "code",
   "execution_count": null,
   "metadata": {},
   "outputs": [],
   "source": []
  }
 ],
 "metadata": {
  "kernelspec": {
   "display_name": "Python 3",
   "language": "python",
   "name": "python3"
  },
  "language_info": {
   "codemirror_mode": {
    "name": "ipython",
    "version": 3
   },
   "file_extension": ".py",
   "mimetype": "text/x-python",
   "name": "python",
   "nbconvert_exporter": "python",
   "pygments_lexer": "ipython3",
   "version": "3.7.1"
  }
 },
 "nbformat": 4,
 "nbformat_minor": 2
}
