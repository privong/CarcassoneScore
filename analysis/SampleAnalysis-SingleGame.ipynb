{
 "cells": [
  {
   "cell_type": "markdown",
   "metadata": {},
   "source": [
    "# Sample Analysis of A Single Carcassonne Game\n",
    "\n",
    "This demonstrates some of the single-game analysis possible with the data recorded via this Carcassonne score keeping system.\n",
    "\n",
    "It requires the `CarcassonneScore-sample.db` sqlite database in the same directory.\n",
    "\n",
    "This script also requires the `numpy` and `matplotlib` libraries."
   ]
  },
  {
   "cell_type": "markdown",
   "metadata": {},
   "source": [
    "## Preliminaries"
   ]
  },
  {
   "cell_type": "code",
   "execution_count": 1,
   "metadata": {
    "collapsed": true
   },
   "outputs": [],
   "source": [
    "%matplotlib inline"
   ]
  },
  {
   "cell_type": "code",
   "execution_count": 2,
   "metadata": {
    "collapsed": true
   },
   "outputs": [],
   "source": [
    "import matplotlib.pyplot as plt\n",
    "import numpy as np\n",
    "import sqlite3\n",
    "from datetime import datetime"
   ]
  },
  {
   "cell_type": "code",
   "execution_count": 3,
   "metadata": {
    "collapsed": true
   },
   "outputs": [],
   "source": [
    "DBFILE = 'CarcassonneScore-sample.db'"
   ]
  },
  {
   "cell_type": "code",
   "execution_count": 4,
   "metadata": {
    "collapsed": true
   },
   "outputs": [],
   "source": [
    "timefmt = \"%Y-%m-%dT%H:%M:%S\""
   ]
  },
  {
   "cell_type": "code",
   "execution_count": 5,
   "metadata": {
    "collapsed": true
   },
   "outputs": [],
   "source": [
    "conn = sqlite3.connect(DBFILE)\n",
    "cur = conn.cursor()"
   ]
  },
  {
   "cell_type": "code",
   "execution_count": 6,
   "metadata": {
    "collapsed": true
   },
   "outputs": [],
   "source": [
    "gameID = 1"
   ]
  },
  {
   "cell_type": "markdown",
   "metadata": {},
   "source": [
    "## General Game Info\n",
    "\n",
    "Load some general information about this particular game."
   ]
  },
  {
   "cell_type": "code",
   "execution_count": 7,
   "metadata": {},
   "outputs": [
    {
     "name": "stdout",
     "output_type": "stream",
     "text": [
      "Players in game 1:\n",
      "John Smith\n",
      "Jane Doe\n"
     ]
    }
   ],
   "source": [
    "playerIDs = cur.execute('''SELECT DISTINCT playerID from turns where gameID={0:d}'''.format(gameID)).fetchall()\n",
    "print(\"Players in game {0:d}:\".format(gameID))\n",
    "players = {}\n",
    "for playerID in playerIDs:\n",
    "    playername = cur.execute('''SELECT name FROM players WHERE playerID={0:d}'''.format(playerID[0])).fetchall()[0]\n",
    "    print(playername[0])\n",
    "    players[playerID[0]] = playername[0]"
   ]
  },
  {
   "cell_type": "code",
   "execution_count": 8,
   "metadata": {},
   "outputs": [
    {
     "name": "stdout",
     "output_type": "stream",
     "text": [
      "Expansions:\n",
      "1) The River\n"
     ]
    }
   ],
   "source": [
    "expIDs = cur.execute('''SELECT expansions FROM games WHERE gameID={0:d}'''.format(gameID)).fetchall()[0]\n",
    "try:\n",
    "    expIDs = [int(x) for x in expIDs[0].split(',')]\n",
    "    if len(expIDs):\n",
    "        print(\"Expansions:\")\n",
    "        for i, expID in enumerate(expIDs):\n",
    "            expname = cur.execute('''SELECT name FROM expansions WHERE expansionID={0:d}'''.format(expID)).fetchall()[0]\n",
    "            print(\"{0:d}) \".format(i+1) + expname[0])\n",
    "except ValueError:\n",
    "    print(\"No expansions used.\")"
   ]
  },
  {
   "cell_type": "markdown",
   "metadata": {},
   "source": [
    "## Score Evolution"
   ]
  },
  {
   "cell_type": "markdown",
   "metadata": {},
   "source": [
    "### By Turn"
   ]
  },
  {
   "cell_type": "code",
   "execution_count": 9,
   "metadata": {},
   "outputs": [
    {
     "data": {
      "text/plain": [
       "<matplotlib.legend.Legend at 0x7f75c1304e48>"
      ]
     },
     "execution_count": 9,
     "metadata": {},
     "output_type": "execute_result"
    },
    {
     "data": {
      "image/png": "[encoded data removed]",
      "text/plain": [
       "<Figure size 432x288 with 1 Axes>"
      ]
     },
     "metadata": {
      "needs_background": "light"
     },
     "output_type": "display_data"
    }
   ],
   "source": [
    "fig, ax = plt.subplots(1,1,\n",
    "                       squeeze=False)\n",
    "colors = ['blue', 'orange', 'green', 'red']\n",
    "sdtype = [('turnNum', float), ('ingame', float), ('points', float)]\n",
    "for i, playerID in enumerate(playerIDs):\n",
    "    start = np.array((0, 1, 0), dtype=sdtype)\n",
    "    rec = cur.execute('''SELECT turnNum,ingame,points FROM scores WHERE gameID={0:d} and playerID={1:d} ORDER BY turnNum'''.format(gameID,\n",
    "                                                                                                                  playerID[0])).fetchall()\n",
    "    rec = np.array(rec, dtype=sdtype)\n",
    "    endT = cur.execute('''SELECT turnNum from scores WHERE gameID={0:d} ORDER BY turnNum DESC LIMIT 1'''.format(gameID)).fetchall()[0][0]\n",
    "    end = np.array((endT, 1, 0), dtype=sdtype)\n",
    "    rec = np.hstack((start, rec, end))\n",
    "    ig = rec['ingame'] == 1\n",
    "    postscore = np.sum(rec['points'][ig])\n",
    "    ax[0][0].step(rec['turnNum'][ig],\n",
    "                  np.cumsum(rec['points'][ig]),\n",
    "                  where='post',\n",
    "                  color=colors[i],\n",
    "                  label=players[playerID[0]])\n",
    "    ax[0][0].scatter(rec['turnNum'][~ig],\n",
    "                     postscore + np.cumsum(rec['points'][~ig]),\n",
    "                     marker='o',\n",
    "                     facecolor='',\n",
    "                     edgecolor=colors[i])\n",
    "    fscore = np.sum(rec['points'])\n",
    "    ax[0][0].axhline(fscore,\n",
    "                     ls=':',\n",
    "                     color=colors[i])\n",
    "    plt.annotate('Final score: {0:1.0f}'.format(fscore),\n",
    "                 (30, fscore),\n",
    "                 color=colors[i])\n",
    "ax[0][0].set_xlabel('Turn Number')\n",
    "ax[0][0].set_ylabel('Cumulative Points')\n",
    "ax[0][0].set_xlim([0, rec['turnNum'][-1]*1.05])\n",
    "ylims = ax[0][0].get_ylim()\n",
    "ax[0][0].set_ylim([0, ylims[1]])\n",
    "ax[0][0].minorticks_on()\n",
    "ax[0][0].legend(loc='best')"
   ]
  },
  {
   "cell_type": "code",
   "execution_count": 10,
   "metadata": {
    "collapsed": true
   },
   "outputs": [],
   "source": [
    "# JOIN the scores and turns tables to get the timesteps for a sample game"
   ]
  },
  {
   "cell_type": "code",
   "execution_count": 11,
   "metadata": {},
   "outputs": [
    {
     "data": {
      "text/plain": [
       "<matplotlib.legend.Legend at 0x7f75c1114978>"
      ]
     },
     "execution_count": 11,
     "metadata": {},
     "output_type": "execute_result"
    },
    {
     "data": {
      "image/png": "[encoded data removed]",
      "text/plain": [
       "<Figure size 432x288 with 1 Axes>"
      ]
     },
     "metadata": {
      "needs_background": "light"
     },
     "output_type": "display_data"
    }
   ],
   "source": [
    "fig, ax = plt.subplots(1, 1,\n",
    "                       squeeze=False)\n",
    "hatches = ['\\\\', '/', '|', '-']\n",
    "maxpts = cur.execute('''SELECT points FROM scores WHERE gameID={0:d} ORDER BY points DESC LIMIT 1'''.format(gameID)).fetchall()[0][0]\n",
    "bins = np.arange(0.5, maxpts+1.5, 1)\n",
    "for i, playerID in enumerate(playerIDs):\n",
    "    rec = cur.execute('''SELECT points,ingame FROM scores WHERE gameID={0:d} and playerID={1:d}'''.format(gameID,\n",
    "                                                                                                          playerID[0])).fetchall()\n",
    "    rec = np.array(rec, dtype=[('points', float), ('ingame', float)])\n",
    "    ig = rec['ingame'] == 1\n",
    "    ax[0][0].hist(rec['points'],\n",
    "                  bins=bins,\n",
    "                  alpha=0.3,\n",
    "                  color=colors[i],\n",
    "                  label=players[playerID[0]])\n",
    "    ax[0][0].hist(rec['points'][ig],\n",
    "                  bins=bins,\n",
    "                  alpha=0.0,\n",
    "                  color=colors[i],\n",
    "                  hatch=hatches[i],\n",
    "                  label=players[playerID[0]] + ' in-game portion')\n",
    "\n",
    "ax[0][0].set_xticks(np.arange(0, maxpts+1, 4))\n",
    "ax[0][0].set_xlim([0, maxpts+1])\n",
    "ax[0][0].minorticks_on()\n",
    "ax[0][0].tick_params(axis='y', which='minor', left=False, right=False)\n",
    "ax[0][0].set_ylabel('N')\n",
    "ax[0][0].set_xlabel('Points')\n",
    "ax[0][0].legend(loc='best')"
   ]
  },
  {
   "cell_type": "markdown",
   "metadata": {},
   "source": [
    "## Scores by Type"
   ]
  },
  {
   "cell_type": "markdown",
   "metadata": {},
   "source": [
    "### Fraction of scores and fraction of points per scoretype"
   ]
  },
  {
   "cell_type": "code",
   "execution_count": 12,
   "metadata": {},
   "outputs": [
    {
     "data": {
      "text/plain": [
       "<matplotlib.legend.Legend at 0x7f75c0d56fd0>"
      ]
     },
     "execution_count": 12,
     "metadata": {},
     "output_type": "execute_result"
    },
    {
     "data": {
      "image/png": "[encoded data removed]",
      "text/plain": [
       "<Figure size 720x288 with 2 Axes>"
      ]
     },
     "metadata": {
      "needs_background": "light"
     },
     "output_type": "display_data"
    }
   ],
   "source": [
    "fig, ax = plt.subplots(1,2,\n",
    "                       squeeze=False,\n",
    "                       figsize=(10,4))\n",
    "# get the list of unique scoretypes in this game\n",
    "stypes = cur.execute('''SELECT DISTINCT scoretype FROM scores WHERE gameID={0:d} ORDER BY scoretype'''.format(gameID)).fetchall()\n",
    "\n",
    "for i, playerID in enumerate(playerIDs):\n",
    "    rec = cur.execute('''SELECT points,ingame,scoretype FROM scores WHERE gameID={0:d} and playerID={1:d}'''.format(gameID, playerID[0])).fetchall()\n",
    "    scores = np.array(rec, dtype=[('points', float), ('ingame', float), ('scoretype', 'S30')])\n",
    "    pstypes, Ntypes = np.unique(scores['scoretype'], return_counts=True)\n",
    "    ax[0][0].hist(scores['scoretype'],\n",
    "                  color=colors[i],\n",
    "                  alpha=0.3,\n",
    "                  label=players[playerID[0]])\n",
    "    for stype in stypes:\n",
    "        ax[0][1].bar(stype,\n",
    "                     np.sum(scores['points'][scores['scoretype']==str.encode(stype[0])]),\n",
    "                     width=0.4,\n",
    "                     alpha=0.3,\n",
    "                     color=colors[i])\n",
    "ax[0][0].set_xlabel('Score type')\n",
    "ax[0][1].set_xlabel('Score type')\n",
    "ax[0][0].set_ylabel('N scores')\n",
    "ax[0][1].set_ylabel('N points')\n",
    "ax[0][0].minorticks_on()\n",
    "ax[0][1].minorticks_on()\n",
    "ax[0][0].tick_params(axis='x', which='minor', bottom=False, top=False)\n",
    "ax[0][1].tick_params(axis='x', which='minor', bottom=False, top=False)\n",
    "ax[0][0].legend(loc='best')"
   ]
  },
  {
   "cell_type": "markdown",
   "metadata": {},
   "source": [
    "## Distribution of time per turn"
   ]
  },
  {
   "cell_type": "code",
   "execution_count": 13,
   "metadata": {},
   "outputs": [
    {
     "name": "stdout",
     "output_type": "stream",
     "text": [
      "Turn time for John Smith: median=11s, mean=13s\n",
      "Turn time for Jane Doe: median=14s, mean=17s\n"
     ]
    },
    {
     "data": {
      "image/png": "[encoded data removed]",
      "text/plain": [
       "<Figure size 432x288 with 1 Axes>"
      ]
     },
     "metadata": {
      "needs_background": "light"
     },
     "output_type": "display_data"
    }
   ],
   "source": [
    "starttime = cur.execute('''SELECT starttime FROM games WHERE gameID={0:d}'''.format(gameID)).fetchall()[0][0]\n",
    "st = datetime.strptime(starttime, timefmt)\n",
    "turns = cur.execute('''SELECT time,playerID,turnNum FROM turns WHERE gameID={0:d} ORDER BY time'''.format(gameID)).fetchall()\n",
    "playerdt = {}\n",
    "for playerID in playerIDs:\n",
    "    playerdt[playerID[0]] = []\n",
    "fig, ax = plt.subplots(1, 1,\n",
    "                       squeeze=False)\n",
    "\n",
    "for i, turn in enumerate(turns):\n",
    "    tt = datetime.strptime(turn[0], timefmt)\n",
    "    if i > 0:\n",
    "        prevt = datetime.strptime(turns[i-1][0], timefmt)\n",
    "        playerdt[turn[1]].append((tt-prevt).total_seconds())\n",
    "    else:\n",
    "        playerdt[turn[1]].append((tt-st).total_seconds())\n",
    "    \n",
    "maxdt = np.max([np.max(playerdt[x]) for x in playerdt.keys()])\n",
    "for i, playerID in enumerate(playerIDs):\n",
    "    ax[0][0].hist(playerdt[playerID[0]],\n",
    "                  bins=np.arange(0, maxdt+10, 5),\n",
    "                  color=colors[i],\n",
    "                  label=players[playerID[0]],\n",
    "                  alpha=0.3)\n",
    "    ax[0][0].scatter(playerdt[playerID[0]],\n",
    "                     0.5 + np.zeros(len(playerdt[playerID[0]])),\n",
    "                     facecolor='',\n",
    "                     marker='o',\n",
    "                     edgecolor=colors[i])\n",
    "    ax[0][0].axvline(np.mean(playerdt[playerID[0]]),\n",
    "                     ls='--',\n",
    "                     color=colors[i])\n",
    "    ax[0][0].axvline(np.median(playerdt[playerID[0]]),\n",
    "                     ls=':',\n",
    "                     color=colors[i])\n",
    "    print(\"Turn time for \" + players[playerID[0]] + \": median={0:1.0f}s, mean={1:1.0f}s\".format(np.median(playerdt[playerID[0]]),\n",
    "                                                                                    np.mean(playerdt[playerID[0]])))\n",
    "\n",
    "ax[0][0].legend(loc='best')\n",
    "ax[0][0].set_xlabel('Turn time (seconds)')\n",
    "ax[0][0].set_ylabel('N turns')\n",
    "ax[0][0].set_xlim([0, maxdt+10])\n",
    "ylims = ax[0][0].get_ylim()\n",
    "ax[0][0].set_ylim([0, ylims[1]])\n",
    "ax[0][0].minorticks_on()\n",
    "ax[0][0].tick_params(axis='y', which='minor', left=False, right=False)"
   ]
  },
  {
   "cell_type": "code",
   "execution_count": 14,
   "metadata": {},
   "outputs": [
    {
     "data": {
      "image/png": "[encoded data removed]",
      "text/plain": [
       "<Figure size 432x288 with 1 Axes>"
      ]
     },
     "metadata": {
      "needs_background": "light"
     },
     "output_type": "display_data"
    }
   ],
   "source": [
    "fig, ax = plt.subplots(1, 1, squeeze=False)\n",
    "turns = np.array(turns,\n",
    "                 dtype=[('Date', 'S20'),\n",
    "                        ('playerID', float),\n",
    "                        ('turnNum', float)])\n",
    "for i, playerID in enumerate(playerIDs):\n",
    "    playerturns = turns[turns['playerID']==playerID[0]]\n",
    "    lastturn = np.max(playerturns['turnNum'])\n",
    "    ax[0][0].scatter(playerturns['turnNum'],\n",
    "                     playerdt[playerID[0]],\n",
    "                     label=players[playerID[0]])\n",
    "    ax[0][0].set_ylabel(r't$_{\\rm turn}$')\n",
    "    ax[0][0].set_xlabel('Turn Number')\n",
    "\n",
    "ax[0][0].set_xlim([0, np.max(turns['turnNum'])+1])\n",
    "ax[0][0].legend(loc='best')\n",
    "ax[0][0].minorticks_on()"
   ]
  },
  {
   "cell_type": "markdown",
   "metadata": {},
   "source": [
    "## Closing\n",
    "\n",
    "Let's cleanly close the database."
   ]
  },
  {
   "cell_type": "code",
   "execution_count": 15,
   "metadata": {
    "collapsed": true
   },
   "outputs": [],
   "source": [
    "conn.close()"
   ]
  },
  {
   "cell_type": "code",
   "execution_count": null,
   "metadata": {
    "collapsed": true
   },
   "outputs": [],
   "source": []
  }
 ],
 "metadata": {
  "kernelspec": {
   "display_name": "Python 3",
   "language": "python",
   "name": "python3"
  },
  "language_info": {
   "codemirror_mode": {
    "name": "ipython",
    "version": 3
   },
   "file_extension": ".py",
   "mimetype": "text/x-python",
   "name": "python",
   "nbconvert_exporter": "python",
   "pygments_lexer": "ipython3",
   "version": "3.7.1"
  }
 },
 "nbformat": 4,
 "nbformat_minor": 2
}
